


# Importação das bibliotecas para extrair dados da API do Spotify:

import spotipy
from spotipy.oauth2 import SpotifyClientCredentials

# Importação das bibliotecas para manipulação e tratamento de dados:

import pandas as pd
import numpy as np


# Credenciais para realizar conexão com a API do Spotify:

client_credentials_manager = SpotifyClientCredentials(
    client_id = '09625e9b254b416291548e538663ecd3',
    client_secret = '0228d487039246f7bf3396530680eb1c'
)


# Conexão com a API do Spotify com determinadas credenciais:

sp = spotipy.Spotify(client_credentials_manager = client_credentials_manager)


# Verificação de tal conexão com a API do Spotify:

sp


# Link da playlist das 50 músicas mais ouvidas em todo o mundo:

playlist_link = 'https://open.spotify.com/playlist/37i9dQZEVXbMDoHDwVN2tF'


# Captura da URI da playlist para extrair os dados de tal playlist da API do Spotify:

playlist_URI = playlist_link.split('/')[-1]


# Extração de dados da playlist das 50 músicas globalmente mais ouvidas da API do Spotify:

data_playlist_tracks = sp.playlist_tracks(playlist_URI)


# Extração do ID do álbum:

data_playlist_tracks['items'][0]['track']['album']['id']


sp.artist('246dkjvS1zLTtiykXe5h60')


artists_df.head()


# Extração do nome do álbum que contém a música:

data_playlist_tracks['items'][0]['track']['album']['name']


# Data de lançamento da música:

data_playlist_tracks['items'][0]['track']['album']['release_date']


# Total de músicas no álbum:

data_playlist_tracks['items'][0]['track']['album']['total_tracks']


# URL do álbum com a música mais ouvida:

data_playlist_tracks['items'][0]['track']['album']['external_urls']['spotify']


# Extração de dados de todas informações sobre os álbuns das músicas globalmente mais ouvidas:

album_list = []
for row in data_playlist_tracks['items']:

    album_id = row['track']['album']['id']
    album_name = row['track']['album']['name']
    album_release_date = row['track']['album']['release_date']
    album_total_tracks = row['track']['album']['total_tracks']
    album_external_urls = row['track']['album']['external_urls']['spotify']
    album_element = {
            'album_id': album_id, 'album_name': album_name, 'album_release_date': album_release_date,
            'album_total_tracks': album_total_tracks, 'album_external_urls': album_external_urls
            }
    album_list.append(album_element)


# Dados de todos álbuns com às músicas globalmente mais ouvidas:

album_list


# Artistas que estão na playlist das músicas globalmente mais ouvidas:

data_playlist_tracks['items'][0]['track']['artists']


# Extração de dados de todos artistas que estão na playlist das músicas globalmente mais ouvidas:

artist_list = []
for row in data_playlist_tracks['items']:
    for key, value in row.items():
        if key == 'track':
            for artist in value['artists']:
                artist_dict = {'artist_id': artist['id'], 'artist_name': artist['name'], 'external_urls': artist['external_urls']['spotify']}
                artist_list.append(artist_dict)


# Dados de todos artistas que estão na playlist das músicas globalmente mais ouvidas:

artist_list


# Extração de dados de todas músicas que estão na playlist das músicas globalmente mais ouvidas:

song_list = []
for row in data_playlist_tracks['items']:
    song_id = row['track']['id']
    song_name = row['track']['name']
    song_duration_ms = row['track']['duration_ms']
    song_url = row['track']['external_urls']['spotify']
    song_popularity = row['track']['popularity']
    song_added = row['added_at']
    album_id = row['track']['album']['id']
    artist_id = row['track']['album']['artists'][0]['id']
    song_element = {'song_id': song_id, 'song_name': song_name, 'song_duration_ms': song_duration_ms,
                   'song_url': song_url, 'song_popularity': song_popularity, 'song_added': song_added,
                   'album_id': album_id, 'artist_id': artist_id}
    song_list.append(song_element)


# Dados de todas músicas que estão na playlist das músicas globalmente mais ouvidas:

song_list


# Extração das músicas mais populares de cada artista da playlist das 50 músicas globalmente mais ouvidas:

top_tracks_artist_list = []
for artist in artist_list:
    
    data_top_track_artist = sp.artist_top_tracks(artist['artist_id'])
    
    for top_track in data_top_track_artist['tracks']:
        
        artist_id = top_track['artists'][0]['id']
        artist_name = top_track['artists'][0]['name']
        track_name = top_track['name']
        popularity = top_track['popularity']
        duration_ms = top_track['duration_ms']
        song_id = top_track['id']
        album_name = top_track['album']['name']
        total_tracks = top_track['album']['total_tracks']
        album_id = top_track['album']['id']
        release_date = top_track['album']['release_date']
        image_album = top_track['album']['images'][0]['url']
        external_url = top_track['external_urls']['spotify']
        top_tracks_artist = {
            'artist_id': artist_id, 'artist_name': artist_name, 'track_name': track_name, 'popularity': popularity,
            'duration_ms': duration_ms, 'song_id': song_id, 'album_name': album_name, 'total_tracks': total_tracks,
            'album_id': album_id, 'release_date': release_date, 'image_album': image_album, 'external_url': external_url
        }
        top_tracks_artist_list.append(top_tracks_artist)


# Dados das músicas mais populares de cada artista na playlist das 50 músicas globalmente mais ouvidas:

top_tracks_artist_list[:10]


sp.artist_top_tracks('74KM79TiuVKeVCqs8QtB0B')['tracks'][0]


# DataFrame com todos álbuns da playlist das 50 músicas globalmente mais ouvidas:

album_df = pd.DataFrame.from_dict(album_list)


# Leitura do DataFrame de álbuns:

album_df.head()


# DataFrame com todos artistas da playlist das 50 músicas globalmente mais ouvidas:

artists_df = pd.DataFrame.from_dict(artist_list)


# Leitura do DataFrame de artistas:

artists_df.head()


# DataFrame com todas músicas da playlist das 50 músicas globalmente mais ouvidas:

song_df = pd.DataFrame.from_dict(song_list)


# DataFrame com todas músicas mais populares de cada artista da playlist:

top_tracks_by_artist_df = pd.DataFrame.from_dict(top_tracks_artist_list)


# Leitura do DataFrame de músicas mais populares de cada artista:

top_tracks_by_artist_df.head()


# Leitura do DataFrame de músicas:

song_df.head()


# Tipo de dados dos campos do DataFrame de álbuns:

album_df.dtypes


# Conversão do tipo de dado da coluna de lançamento do álbum de string para datetime:

album_df['album_release_date'] = pd.to_datetime(album_df['album_release_date'])


# Verificação de que tal conversão foi concluída:

album_df.dtypes


# Tipo de dados dos campos do DataFrame de músicas:

song_df.dtypes


# Conversão do tipo de dado da coluna de adição da música de string para datetime:

song_df['song_added'] = pd.to_datetime(song_df['song_added'])


# Verificação de que tal conversão foi concluída:

song_df.dtypes


# Tipo de dados dos campos do DataFrame de músicas mais populares por artista:

top_tracks_by_artist_df.dtypes


# Conversão do tipo de dado da coluna de data de lançamento de string para datetime:

top_tracks_by_artist_df['release_date'] = pd.to_datetime(top_tracks_by_artist_df['release_date'], format = 'mixed')


# Verificação de que tal conversão foi concluída:

top_tracks_by_artist_df.dtypes


album_df


song_df


artists_df


top_tracks_by_artist_df[top_tracks_by_artist_df['duration_ms'].isnull()]



